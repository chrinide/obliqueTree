{
 "cells": [
  {
   "cell_type": "code",
   "execution_count": 4,
   "metadata": {
    "collapsed": true
   },
   "outputs": [],
   "source": [
    "import os\n",
    "import numpy as np"
   ]
  },
  {
   "cell_type": "code",
   "execution_count": 5,
   "metadata": {
    "collapsed": false
   },
   "outputs": [],
   "source": [
    "d=r'C:\\Temp\\simulations-tests-10'\n",
    "files=[os.path.join(d,o,'results.npz') for o in os.listdir(d) if os.path.isdir(os.path.join(d,o))]"
   ]
  },
  {
   "cell_type": "code",
   "execution_count": 6,
   "metadata": {
    "collapsed": false
   },
   "outputs": [
    {
     "name": "stdout",
     "output_type": "stream",
     "text": [
      "C:\\Temp\\simulations-tests-10\\sim2-2017-02-09-13-39-32-848000\\results.npz\n",
      "stochastic mean\n",
      "0.836926998175\n",
      "tree mean\n",
      "0.579086727168\n",
      "svm mean\n",
      "0.948983874597\n",
      "\n",
      "C:\\Temp\\simulations-tests-10\\sim2-2017-02-09-13-44-07-659000\\results.npz\n",
      "stochastic mean\n",
      "0.831056601415\n",
      "tree mean\n",
      "0.575906672667\n",
      "svm mean\n",
      "0.946048901223\n",
      "\n",
      "C:\\Temp\\simulations-tests-10\\sim2-2017-02-09-13-48-49-283000\\results.npz\n",
      "stochastic mean\n",
      "0.837\n",
      "tree mean\n",
      "0.577\n",
      "svm mean\n",
      "0.927\n",
      "\n",
      "C:\\Temp\\simulations-tests-10\\sim2-2017-02-09-13-53-05-389000\\results.npz\n",
      "stochastic mean\n",
      "0.76495519888\n",
      "tree mean\n",
      "0.620987424686\n",
      "svm mean\n",
      "0.938978599465\n",
      "\n",
      "C:\\Temp\\simulations-tests-10\\sim2-noise-0.1-2017-02-09-13-40-47-118000\\results.npz\n",
      "stochastic mean\n",
      "0.651957823946\n",
      "tree mean\n",
      "0.583941548539\n",
      "svm mean\n",
      "0.798040626016\n",
      "\n",
      "C:\\Temp\\simulations-tests-10\\sim2-noise-0.1-2017-02-09-13-45-13-975000\\results.npz\n",
      "stochastic mean\n",
      "0.553000575014\n",
      "tree mean\n",
      "0.544030425761\n",
      "svm mean\n",
      "0.79001800045\n",
      "\n",
      "C:\\Temp\\simulations-tests-10\\sim2-noise-0.1-2017-02-09-13-49-51-098000\\results.npz\n",
      "stochastic mean\n",
      "0.694977249431\n",
      "tree mean\n",
      "0.568991074777\n",
      "svm mean\n",
      "0.797993124828\n",
      "\n",
      "C:\\Temp\\simulations-tests-10\\sim2-noise-0.1-2017-02-09-13-54-10-533000\\results.npz\n",
      "stochastic mean\n",
      "0.542990474762\n",
      "tree mean\n",
      "0.561995549889\n",
      "svm mean\n",
      "0.783077951949\n",
      "\n",
      "C:\\Temp\\simulations-tests-10\\sim2-noise-0.2-2017-02-09-13-41-55-496000\\results.npz\n",
      "stochastic mean\n",
      "0.542000750019\n",
      "tree mean\n",
      "0.557981149529\n",
      "svm mean\n",
      "0.684928723218\n",
      "\n",
      "C:\\Temp\\simulations-tests-10\\sim2-noise-0.2-2017-02-09-13-46-19-088000\\results.npz\n",
      "stochastic mean\n",
      "0.720957348934\n",
      "tree mean\n",
      "0.551960774019\n",
      "svm mean\n",
      "0.70696719918\n",
      "\n",
      "C:\\Temp\\simulations-tests-10\\sim2-noise-0.2-2017-02-09-13-50-54-055000\\results.npz\n",
      "stochastic mean\n",
      "0.54001080027\n",
      "tree mean\n",
      "0.526975474387\n",
      "svm mean\n",
      "0.682078526963\n",
      "\n",
      "C:\\Temp\\simulations-tests-10\\sim2-noise-0.2-2017-02-09-13-55-17-599000\\results.npz\n",
      "stochastic mean\n",
      "0.681928923223\n",
      "tree mean\n",
      "0.53205080127\n",
      "svm mean\n",
      "0.710959423986\n",
      "\n",
      "C:\\Temp\\simulations-tests-10\\sim2-noise-0.3-2017-02-09-13-43-01-984000\\results.npz\n",
      "stochastic mean\n",
      "0.529\n",
      "tree mean\n",
      "0.485\n",
      "svm mean\n",
      "0.604\n",
      "\n",
      "C:\\Temp\\simulations-tests-10\\sim2-noise-0.3-2017-02-09-13-47-45-139000\\results.npz\n",
      "stochastic mean\n",
      "0.541995974899\n",
      "tree mean\n",
      "0.547175979399\n",
      "svm mean\n",
      "0.535940998525\n",
      "\n",
      "C:\\Temp\\simulations-tests-10\\sim2-noise-0.3-2017-02-09-13-51-58-870000\\results.npz\n",
      "stochastic mean\n",
      "0.542975974399\n",
      "tree mean\n",
      "0.538020650516\n",
      "svm mean\n",
      "0.582026625666\n",
      "\n",
      "C:\\Temp\\simulations-tests-10\\sim2-noise-0.3-2017-02-09-13-56-23-603000\\results.npz\n",
      "stochastic mean\n",
      "0.535015250381\n",
      "tree mean\n",
      "0.554870721768\n",
      "svm mean\n",
      "0.584965749144\n",
      "\n"
     ]
    }
   ],
   "source": [
    "translations = {'arr_0': 'stochastic runs', 'arr_1': \"stochastic mean\",\n",
    "               'arr_2': 'tree runs', 'arr_3': \"tree mean\",\n",
    "               'arr_4': 'svm runs', 'arr_5': \"svm mean\"}\n",
    "includes = {'arr_0': False, 'arr_1': True,\n",
    "               'arr_2': False, 'arr_3': True,\n",
    "               'arr_4': False, 'arr_5': True}\n",
    "\n",
    "for f in files:\n",
    "    x = np.load(f)\n",
    "    print(f)\n",
    "    for k in x:\n",
    "        if includes[k]:\n",
    "            print translations[k]\n",
    "            print x[k]\n",
    "    print"
   ]
  },
  {
   "cell_type": "code",
   "execution_count": null,
   "metadata": {
    "collapsed": true
   },
   "outputs": [],
   "source": []
  },
  {
   "cell_type": "code",
   "execution_count": null,
   "metadata": {
    "collapsed": true
   },
   "outputs": [],
   "source": []
  }
 ],
 "metadata": {
  "anaconda-cloud": {},
  "kernelspec": {
   "display_name": "Python [default]",
   "language": "python",
   "name": "python2"
  },
  "language_info": {
   "codemirror_mode": {
    "name": "ipython",
    "version": 2
   },
   "file_extension": ".py",
   "mimetype": "text/x-python",
   "name": "python",
   "nbconvert_exporter": "python",
   "pygments_lexer": "ipython2",
   "version": "2.7.12"
  }
 },
 "nbformat": 4,
 "nbformat_minor": 1
}
