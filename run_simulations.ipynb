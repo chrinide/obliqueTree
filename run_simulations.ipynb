{
 "cells": [
  {
   "cell_type": "code",
   "execution_count": 1,
   "metadata": {
    "collapsed": true
   },
   "outputs": [],
   "source": [
    "# %load simulations\n",
    "from TreeClassifier import *\n",
    "from sklearn.model_selection import train_test_split\n",
    "from sklearn.model_selection import cross_val_score\n",
    "from sklearn import tree\n",
    "from sklearn.svm import LinearSVC\n",
    "import numpy as np\n",
    "import datetime\n",
    "import os"
   ]
  },
  {
   "cell_type": "code",
   "execution_count": 2,
   "metadata": {
    "collapsed": true
   },
   "outputs": [],
   "source": [
    "depth = 2\n",
    "output_dir = r\"C:\\Temp\\simulations-tests\""
   ]
  },
  {
   "cell_type": "code",
   "execution_count": 3,
   "metadata": {
    "collapsed": true
   },
   "outputs": [],
   "source": [
    "def get_simulation_data_1(d,n):\n",
    "    X = np.random.normal(size=[n, d])\n",
    "    y = np.greater_equal(np.sum(X, axis=1), 0.0)\n",
    "    return X, y\n",
    "\n",
    "\n",
    "def get_simulation_data_2(d,n):\n",
    "    X = np.random.normal(size=[n, d])\n",
    "    w = np.random.normal(size=[d, 1])\n",
    "    y = np.greater_equal(np.dot(X,w).reshape(-1), 0.0)\n",
    "    print 'positive class weight {}'.format(float(y.sum()) / len(y))\n",
    "    return X, y\n",
    "\n",
    "\n",
    "def get_simulation_data_3(d,n):\n",
    "    X = np.random.normal(size=[n, d])\n",
    "    w1 = np.random.normal(size=[d, 1])\n",
    "    w2 = np.random.normal(size=[d, 1])\n",
    "    y = np.greater_equal(np.multiply(np.dot(X,w1),np.dot(X,w2)).reshape(-1), 0.0)\n",
    "    print 'positive class weight {}'.format(float(y.sum()) / len(y))\n",
    "    return X, y\n",
    "\n",
    "def get_simulation_data_4(d,n):\n",
    "    X = np.random.normal(size=[n, d])\n",
    "    X1 = X[:,:d/2]\n",
    "    X2 = X[:,d/2:]\n",
    "    w1 = np.random.normal(size=[d/2, 1])\n",
    "    w2 = np.random.normal(size=[d/2, 1])\n",
    "    y = np.greater_equal(np.multiply(np.dot(X1,w1),np.dot(X2,w2)).reshape(-1), 0.0)\n",
    "    print 'positive class weight {}'.format(float(y.sum()) / len(y))\n",
    "    return X, y"
   ]
  },
  {
   "cell_type": "code",
   "execution_count": 4,
   "metadata": {
    "collapsed": true
   },
   "outputs": [],
   "source": [
    "def run_comparison(X,y):\n",
    "    tree_classifier = TreeClassifier(0.001, depth, normalizer_mode=\"norm\", feature_drop_probability=0.0)\n",
    "    stochastic_scores = cross_val_score(tree_classifier, X, y, cv=5)\n",
    "    print \"stochastic\"\n",
    "    print stochastic_scores.mean()\n",
    "\n",
    "    tree_scores = cross_val_score(tree.DecisionTreeClassifier(max_depth=depth), X, y, cv=5)\n",
    "    print \"regular\"\n",
    "    print tree_scores.mean()\n",
    "    \n",
    "    svm_scores = cross_val_score(LinearSVC(), X, y, cv=5)\n",
    "    print \"svm\"\n",
    "    print svm_scores.mean()\n",
    "    \n",
    "    return stochastic_scores, tree_scores, svm_scores"
   ]
  },
  {
   "cell_type": "code",
   "execution_count": 5,
   "metadata": {
    "collapsed": true
   },
   "outputs": [],
   "source": [
    "def manage_run(data_generation, sim_name, d=100, n=1000, noise = False):\n",
    "    test_time = str(datetime.datetime.now()).replace(':','-').replace(' ','-').replace('.','-')\n",
    "    name = sim_name\n",
    "    if noise:\n",
    "        name = name + 'noise-'\n",
    "    name = name + test_time\n",
    "    current_dir = os.path.join(output_dir,name)\n",
    "    if not os.path.exists(current_dir):\n",
    "        os.makedirs(current_dir)\n",
    "    X,y = data_generation(d,n)\n",
    "    rho = float(y.sum()) / len(y)\n",
    "    if noise:\n",
    "        X_n = X + np.random.normal(scale=0.1,size=[n, d])\n",
    "    else:\n",
    "        X_n = X\n",
    "    np.savez(os.path.join(current_dir,'data.npz'), X, X_n, y, rho)\n",
    "    stochastic_scores, tree_scores, svm_scores = run_comparison(X,y)\n",
    "    np.savez(os.path.join(current_dir,'results.npz'), stochastic_scores, stochastic_scores.mean(), \n",
    "             tree_scores, tree_scores.mean(), svm_scores, svm_scores.mean())"
   ]
  },
  {
   "cell_type": "code",
   "execution_count": 6,
   "metadata": {
    "collapsed": false
   },
   "outputs": [
    {
     "name": "stdout",
     "output_type": "stream",
     "text": [
      "splitting leaf with weight 1.0 and purity 0.443037974684\n",
      "l_child weight 0.50234870443 and purity 0.572855976151\n",
      "r_child weight 0.49765129557 and purity 0.311994600679\n",
      "stopping level 1\n",
      "stopping level 1\n",
      "splitting leaf with weight 1.0 and purity 0.4375\n",
      "l_child weight 0.471258405354 and purity 0.574570931679\n",
      "r_child weight 0.528741594646 and purity 0.315331006038\n",
      "stopping level 1\n",
      "stopping level 1\n",
      "splitting leaf with weight 1.0 and purity 0.4375\n",
      "l_child weight 0.491364245161 and purity 0.577908117637\n",
      "r_child weight 0.508635754839 and purity 0.301859656039\n",
      "stopping level 1\n",
      "stopping level 1\n",
      "splitting leaf with weight 1.0 and purity 0.4375\n",
      "l_child weight 0.543956381672 and purity 0.322048956859\n",
      "r_child weight 0.456043618328 and purity 0.575206853387\n",
      "stopping level 1\n",
      "stopping level 1\n",
      "splitting leaf with weight 1.0 and purity 0.444444444444\n",
      "l_child weight 0.529654087857 and purity 0.312779008384\n",
      "r_child weight 0.470345912143 and purity 0.592712207889\n",
      "stopping level 1\n",
      "stopping level 1\n",
      "stochastic\n",
      "0.671704260652\n",
      "regular\n",
      "0.689122807018\n",
      "svm\n",
      "0.949423558897\n"
     ]
    }
   ],
   "source": [
    "manage_run(get_simulation_data_1,'sim1-',d=3,n=100,noise=True)"
   ]
  },
  {
   "cell_type": "code",
   "execution_count": null,
   "metadata": {
    "collapsed": false
   },
   "outputs": [],
   "source": [
    "for i in range(5):\n",
    "    for b in [True,False]:\n",
    "        manage_run(get_simulation_data_1,'sim1-',noise=b)\n",
    "for i in range(5):\n",
    "    for b in [True,False]:\n",
    "        manage_run(get_simulation_data_2,'sim2-',noise=b)\n",
    "for i in range(5):\n",
    "    for b in [True,False]:\n",
    "        manage_run(get_simulation_data_3,'sim3-',noise=b)\n",
    "for i in range(5):\n",
    "    for b in [True,False]:\n",
    "        manage_run(get_simulation_data_4,'sim4-',noise=b)"
   ]
  }
 ],
 "metadata": {
  "anaconda-cloud": {},
  "kernelspec": {
   "display_name": "Python [default]",
   "language": "python",
   "name": "python2"
  },
  "language_info": {
   "codemirror_mode": {
    "name": "ipython",
    "version": 2
   },
   "file_extension": ".py",
   "mimetype": "text/x-python",
   "name": "python",
   "nbconvert_exporter": "python",
   "pygments_lexer": "ipython2",
   "version": "2.7.12"
  }
 },
 "nbformat": 4,
 "nbformat_minor": 1
}
