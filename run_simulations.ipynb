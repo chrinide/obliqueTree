{
 "cells": [
  {
   "cell_type": "code",
   "execution_count": null,
   "metadata": {
    "collapsed": true
   },
   "outputs": [],
   "source": [
    "# %load simulations\n",
    "from TreeClassifier import *\n",
    "from sklearn.model_selection import train_test_split\n",
    "from sklearn.model_selection import cross_val_score\n",
    "from sklearn import tree\n",
    "import numpy as np\n",
    "import datetime\n",
    "import os"
   ]
  },
  {
   "cell_type": "code",
   "execution_count": null,
   "metadata": {
    "collapsed": true
   },
   "outputs": [],
   "source": [
    "depth = 10\n",
    "output_dir = r\"C:\\Temp\\simulations-tests\""
   ]
  },
  {
   "cell_type": "code",
   "execution_count": null,
   "metadata": {
    "collapsed": true
   },
   "outputs": [],
   "source": [
    "def get_simulation_data_1(d=100,n=1000):\n",
    "    X = np.random.normal(size=[n, d])\n",
    "    y = np.greater_equal(np.sum(X, axis=1), 0.0)\n",
    "    return X, y\n",
    "\n",
    "\n",
    "def get_simulation_data_2(d=100,n=1000):\n",
    "    X = np.random.normal(size=[n, d])\n",
    "    w = np.random.normal(size=[d, 1])\n",
    "    y = np.greater_equal(np.dot(X,w).reshape(-1), 0.0)\n",
    "    print 'positive class weight {}'.format(float(y.sum()) / len(y))\n",
    "    return X, y\n",
    "\n",
    "\n",
    "def get_simulation_data_3(d=100,n=1000):\n",
    "    X = np.random.normal(size=[n, d])\n",
    "    w1 = np.random.normal(size=[d, 1])\n",
    "    w2 = np.random.normal(size=[d, 1])\n",
    "    y = np.greater_equal(np.multiply(np.dot(X,w1),np.dot(X,w2)).reshape(-1), 0.0)\n",
    "    print 'positive class weight {}'.format(float(y.sum()) / len(y))\n",
    "    return X, y\n",
    "\n",
    "def get_simulation_data_4(d=100,n=1000):\n",
    "    X = np.random.normal(size=[n, d])\n",
    "    X1 = X[:,:d/2]\n",
    "    X2 = X[:,d/2:]\n",
    "    w1 = np.random.normal(size=[d/2, 1])\n",
    "    w2 = np.random.normal(size=[d/2, 1])\n",
    "    y = np.greater_equal(np.multiply(np.dot(X1,w1),np.dot(X2,w2)).reshape(-1), 0.0)\n",
    "    print 'positive class weight {}'.format(float(y.sum()) / len(y))\n",
    "    return X, y"
   ]
  },
  {
   "cell_type": "code",
   "execution_count": null,
   "metadata": {
    "collapsed": true
   },
   "outputs": [],
   "source": [
    "def run_comparison(X,y):\n",
    "    tree_classifier = TreeClassifier(0.001, depth, normalizer_mode=\"norm\", feature_drop_probability=0.0)\n",
    "    stochastic_scores = cross_val_score(tree_classifier, X, y, cv=5)\n",
    "    print \"stochastic\"\n",
    "    print stochastic_scores.mean()\n",
    "\n",
    "    tree_scores = cross_val_score(tree.DecisionTreeClassifier(max_depth=depth), X, y, cv=5)\n",
    "    print \"regular\"\n",
    "    print tree_scores.mean()\n",
    "    \n",
    "    svm_scores = cross_val_score(LinearSVC(), X_n, y, cv=5)\n",
    "    print \"svm\"\n",
    "    print svm_scores.mean()\n",
    "    \n",
    "    return stochastic_scores, tree_scores, svm_scores"
   ]
  },
  {
   "cell_type": "code",
   "execution_count": null,
   "metadata": {
    "collapsed": true
   },
   "outputs": [],
   "source": [
    "def manage_run(data_generation, sim_name, noise = False):\n",
    "    test_time = str(datetime.datetime.now()).replace(':','-').replace(' ','-').replace('.','-')\n",
    "    name = sim_name\n",
    "    if noise:\n",
    "        name = name + 'noise-'\n",
    "    name = name + test_time\n",
    "    current_dir = os.path.join(output_dir,)\n",
    "    if not os.path.exists(current_dir):\n",
    "        os.makedirs(current_dir)\n",
    "    X,y = data_generation()\n",
    "    rho = float(y.sum()) / len(y)\n",
    "    if noise:\n",
    "        X_n = X + np.random.normal(scale=0.1,size=[n, d])\n",
    "    else:\n",
    "        X_n = X\n",
    "    np.savez(os.path.join(current_dir,'data.npz'), X, X_n, y, rho)\n",
    "    stochastic_scores, tree_scores = run_comparison(X,y)\n",
    "    np.savez(os.path.join(current_dir,'results.npz'), stochastic_scores, stochastic_scores.mean(), \n",
    "             tree_scores, tree_scores.mean(), svm_scores, svm_scores.mean())"
   ]
  },
  {
   "cell_type": "code",
   "execution_count": null,
   "metadata": {
    "collapsed": false
   },
   "outputs": [],
   "source": [
    "for i in range(5):\n",
    "    for b in [True,False]\n",
    "    manage_run(get_simulation_data_1,'sim1-',noise)\n",
    "for i in range(5):\n",
    "    manage_run(get_simulation_data_2,'sim2-')\n",
    "for i in range(5):\n",
    "    manage_run(get_simulation_data_3,'sim3-')\n",
    "for i in range(5):\n",
    "    manage_run(get_simulation_data_4,'sim4-')"
   ]
  },
  {
   "cell_type": "code",
   "execution_count": null,
   "metadata": {
    "collapsed": true
   },
   "outputs": [],
   "source": []
  }
 ],
 "metadata": {
  "anaconda-cloud": {},
  "kernelspec": {
   "display_name": "Python [default]",
   "language": "python",
   "name": "python2"
  },
  "language_info": {
   "codemirror_mode": {
    "name": "ipython",
    "version": 2
   },
   "file_extension": ".py",
   "mimetype": "text/x-python",
   "name": "python",
   "nbconvert_exporter": "python",
   "pygments_lexer": "ipython2",
   "version": "2.7.12"
  }
 },
 "nbformat": 4,
 "nbformat_minor": 1
}
