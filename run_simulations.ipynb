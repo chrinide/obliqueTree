{
 "cells": [
  {
   "cell_type": "code",
   "execution_count": null,
   "metadata": {
    "collapsed": true
   },
   "outputs": [],
   "source": [
    "# %load simulations\n",
    "from TreeClassifier import *\n",
    "from TreeHardClassifier import *\n",
    "from sklearn.model_selection import train_test_split\n",
    "from sklearn.model_selection import cross_val_score\n",
    "from sklearn import tree\n",
    "from sklearn.svm import LinearSVC\n",
    "import numpy as np\n",
    "import datetime\n",
    "import os"
   ]
  },
  {
   "cell_type": "code",
   "execution_count": null,
   "metadata": {
    "collapsed": true
   },
   "outputs": [],
   "source": [
    "depth = 10\n",
    "output_dir = r\"C:\\Temp\\simulations-tests-11\""
   ]
  },
  {
   "cell_type": "code",
   "execution_count": null,
   "metadata": {
    "collapsed": true
   },
   "outputs": [],
   "source": [
    "def get_simulation_data_1(d,n):\n",
    "    X = np.random.normal(size=[n, d])\n",
    "    y = np.sum(X, axis=1)\n",
    "#     y = np.greater_equal(np.sum(X, axis=1), 0.0)\n",
    "    return X, y\n",
    "\n",
    "\n",
    "def get_simulation_data_2(d,n):\n",
    "    X = np.random.normal(size=[n, d])\n",
    "    w = np.random.normal(size=[d, 1])\n",
    "    y = np.dot(X,w).reshape(-1)\n",
    "#     y = np.greater_equal(np.dot(X,w).reshape(-1), 0.0)\n",
    "#     print 'positive class weight {}'.format(float(y.sum()) / len(y))\n",
    "    return X, y\n",
    "\n",
    "\n",
    "def get_simulation_data_3(d,n):\n",
    "    X = np.random.normal(size=[n, d])\n",
    "    w1 = np.random.normal(size=[d, 1])\n",
    "    w2 = np.random.normal(size=[d, 1])\n",
    "    y = np.multiply(np.dot(X,w1),np.dot(X,w2)).reshape(-1)\n",
    "#     y = np.greater_equal(np.multiply(np.dot(X,w1),np.dot(X,w2)).reshape(-1), 0.0)\n",
    "#     print 'positive class weight {}'.format(float(y.sum()) / len(y))\n",
    "    return X, y\n",
    "\n",
    "def get_simulation_data_4(d,n):\n",
    "    X = np.random.normal(size=[n, d])\n",
    "    X1 = X[:,:d/2]\n",
    "    X2 = X[:,d/2:]\n",
    "    w1 = np.random.normal(size=[d/2, 1])\n",
    "    w2 = np.random.normal(size=[d/2, 1])\n",
    "    y = np.multiply(np.dot(X1,w1),np.dot(X2,w2)).reshape(-1)\n",
    "#     y = np.greater_equal(np.multiply(np.dot(X1,w1),np.dot(X2,w2)).reshape(-1), 0.0)\n",
    "#     print 'positive class weight {}'.format(float(y.sum()) / len(y))\n",
    "    return X, y\n",
    "\n",
    "def get_simulation_data_5(d,n):\n",
    "    X = np.random.normal(size=[n, d])\n",
    "    w1 = np.random.normal(size=[d, 1])\n",
    "    w2 = np.random.normal(size=[d, 1])\n",
    "    y = np.max([np.dot(X,w1),np.dot(X,w2)],axis =0).reshape(-1)\n",
    "    y = y - np.median(y)\n",
    "#     y = np.greater_equal(np.multiply(np.dot(X,w1),np.dot(X,w2)).reshape(-1), 0.0)\n",
    "#     print 'positive class weight {}'.format(float(y.sum()) / len(y))\n",
    "    return X, y\n",
    "\n",
    "def get_simulation_data_6(d,n):\n",
    "    X = np.random.normal(size=[n, d])\n",
    "    w1 = np.ones([d/2, 1])\n",
    "    w2 = np.zeros([d/2, 1])\n",
    "    u1 = np.concatenate([w1,w2])\n",
    "    u2 = np.concatenate([w2,w1])\n",
    "    y = np.multiply(np.dot(X,u1),np.dot(X,u2)).reshape(-1)\n",
    "#     y = np.greater_equal(np.multiply(np.dot(X,w1),np.dot(X,w2)).reshape(-1), 0.0)\n",
    "#     print 'positive class weight {}'.format(float(y.sum()) / len(y))\n",
    "    return X, y"
   ]
  },
  {
   "cell_type": "code",
   "execution_count": null,
   "metadata": {
    "collapsed": true
   },
   "outputs": [],
   "source": [
    "def run_comparison(X,y):\n",
    "    tree_classifier = TreeClassifier(0.001, depth, normalizer_mode=\"norm\", fit_full_tree=True, print_debug=False)\n",
    "    stochastic_scores = cross_val_score(tree_classifier, X, y, cv=5)\n",
    "    print \"stochastic\"\n",
    "    print stochastic_scores.mean()\n",
    "    \n",
    "#     sharp_tree_classifier = TreeHardClassifier(0.001, depth, normalizer_mode=\"norm\", print_debug=False)\n",
    "#     sharp_scores = cross_val_score(sharp_tree_classifier, X, y, cv=5)\n",
    "#     print \"sharp\"\n",
    "#     print sharp_scores.mean()\n",
    "\n",
    "    tree_scores = cross_val_score(tree.DecisionTreeClassifier(max_depth=depth), X, y, cv=5)\n",
    "    print \"regular\"\n",
    "    print tree_scores.mean()\n",
    "    \n",
    "    svm_scores = cross_val_score(LinearSVC(fit_intercept=False), X, y, cv=5)\n",
    "    print \"svm\"\n",
    "    print svm_scores.mean()\n",
    "    \n",
    "    return stochastic_scores, tree_scores, svm_scores\n",
    "#     return svm_scores, stochastic_scores"
   ]
  },
  {
   "cell_type": "code",
   "execution_count": null,
   "metadata": {
    "collapsed": true
   },
   "outputs": [],
   "source": [
    "def manage_run(data_generation, sim_name, d=100, n=1000, noise = None):\n",
    "    test_time = str(datetime.datetime.now()).replace(':','-').replace(' ','-').replace('.','-')\n",
    "    name = sim_name\n",
    "    if noise:\n",
    "        name = name + 'noise-' + str(noise) +'-'\n",
    "    name = name + test_time\n",
    "    print name\n",
    "    current_dir = os.path.join(output_dir,name)\n",
    "    if not os.path.exists(current_dir):\n",
    "        os.makedirs(current_dir)\n",
    "    X,y = data_generation(d,n)\n",
    "    if noise:\n",
    "        flip = np.random.binomial(1,noise,y.shape)\n",
    "        print 'flipped: ' + str(flip.sum())\n",
    "        y = np.multiply(flip,-y) + np.multiply(1-flip,y)\n",
    "    y = np.greater_equal(y, 0.0)\n",
    "    rho = float(y.sum()) / len(y)\n",
    "    print 'positive class weight {}'.format(rho)\n",
    "    np.savez(os.path.join(current_dir,'data.npz'), X, y, rho)\n",
    "    stochastic_scores, tree_scores, svm_scores = run_comparison(X,y)\n",
    "#     stochastic_scores, tree_scores, svm_scores = run_comparison(X,y)\n",
    "    np.savez(os.path.join(current_dir,'results.npz'), stochastic_scores, stochastic_scores.mean(), \n",
    "             tree_scores, tree_scores.mean(), svm_scores, svm_scores.mean())\n",
    "    print ''\n",
    "    return stochastic_scores.mean(), tree_scores.mean(), svm_scores.mean()"
   ]
  },
  {
   "cell_type": "code",
   "execution_count": null,
   "metadata": {
    "collapsed": false
   },
   "outputs": [],
   "source": [
    "# for i in range(5):\n",
    "#     for noise in [None]:\n",
    "#         X,y = get_simulation_data_6(100,1000)\n",
    "#         y = np.greater_equal(y, 0.0)\n",
    "#         print run_comparison(X,y)"
   ]
  },
  {
   "cell_type": "code",
   "execution_count": null,
   "metadata": {
    "collapsed": false
   },
   "outputs": [],
   "source": [
    "stochastic_means = {}\n",
    "tree_means = {}\n",
    "svm_means = {}\n",
    "\n",
    "noise_list = [None,0.1,0.2,0.3]\n",
    "# noise_list = [None,0.1]\n",
    "\n",
    "for noise in noise_list:\n",
    "    stochastic_means[noise] = []\n",
    "    tree_means[noise] = []\n",
    "    svm_means[noise] = []\n",
    "    for i in range(4):    \n",
    "#     for i in range(2):\n",
    "        stochastic_mean, tree_mean, svm_mean = manage_run(get_simulation_data_2,'sim2-',noise=noise)\n",
    "        stochastic_means[noise] += [stochastic_mean]\n",
    "        tree_means[noise] += [tree_mean]\n",
    "        svm_means[noise] += [svm_mean]\n",
    "\n",
    "for noise in noise_list:        \n",
    "    print stochastic_means[noise]\n",
    "    print tree_means[noise]\n",
    "    print svm_means[noise]\n",
    "    print np.mean(stochastic_means[noise])\n",
    "    print np.mean(tree_means[noise])\n",
    "    print np.mean(svm_means[noise])"
   ]
  },
  {
   "cell_type": "code",
   "execution_count": null,
   "metadata": {
    "collapsed": true
   },
   "outputs": [],
   "source": [
    "# for i in range(4):\n",
    "#     for noise in [None,0.1,0.2,0.3]:\n",
    "#         manage_run(get_simulation_data_1,'sim1-',noise=noise)\n",
    "#         manage_run(get_simulation_data_2,'sim2-',noise=noise)\n",
    "#         manage_run(get_simulation_data_3,'sim3-',noise=noise)\n",
    "#         manage_run(get_simulation_data_4,'sim4-',noise=noise)"
   ]
  }
 ],
 "metadata": {
  "anaconda-cloud": {},
  "kernelspec": {
   "display_name": "Python [default]",
   "language": "python",
   "name": "python2"
  },
  "language_info": {
   "codemirror_mode": {
    "name": "ipython",
    "version": 2
   },
   "file_extension": ".py",
   "mimetype": "text/x-python",
   "name": "python",
   "nbconvert_exporter": "python",
   "pygments_lexer": "ipython2",
   "version": "2.7.12"
  }
 },
 "nbformat": 4,
 "nbformat_minor": 1
}
