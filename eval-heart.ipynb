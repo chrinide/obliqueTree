{
 "cells": [
  {
   "cell_type": "code",
   "execution_count": null,
   "metadata": {
    "collapsed": false
   },
   "outputs": [],
   "source": [
    "import pandas as pd\n",
    "from sklearn.feature_extraction import DictVectorizer\n",
    "import numpy as np"
   ]
  },
  {
   "cell_type": "code",
   "execution_count": null,
   "metadata": {
    "collapsed": false
   },
   "outputs": [],
   "source": [
    "header_row = ['age','sex','pain','BP','chol','fbs','ecg','maxhr','eiang','eist','slope','vessels','thal','diagnosis']\n",
    "heart = pd.read_csv(r\"C:\\Temp\\thesis_data\\fromPaper\\Heart\\heart.dat\",delim_whitespace=True, names=header_row, na_values=['?'])\n",
    "heart.head()"
   ]
  },
  {
   "cell_type": "code",
   "execution_count": null,
   "metadata": {
    "collapsed": false
   },
   "outputs": [],
   "source": [
    "len(heart)"
   ]
  },
  {
   "cell_type": "code",
   "execution_count": null,
   "metadata": {
    "collapsed": false
   },
   "outputs": [],
   "source": [
    "heart = heart.dropna()\n",
    "len(heart)"
   ]
  },
  {
   "cell_type": "code",
   "execution_count": null,
   "metadata": {
    "collapsed": false
   },
   "outputs": [],
   "source": [
    "heart.diagnosis.value_counts()"
   ]
  },
  {
   "cell_type": "code",
   "execution_count": null,
   "metadata": {
    "collapsed": false
   },
   "outputs": [],
   "source": [
    "# for c in header_row:\n",
    "#     print c\n",
    "#     print heart[c].value_counts()\n",
    "#     print ''"
   ]
  },
  {
   "cell_type": "code",
   "execution_count": null,
   "metadata": {
    "collapsed": false
   },
   "outputs": [],
   "source": [
    "target = heart.diagnosis.apply(lambda x: 1 if x==1 else 0)\n",
    "target.head()"
   ]
  },
  {
   "cell_type": "code",
   "execution_count": null,
   "metadata": {
    "collapsed": false
   },
   "outputs": [],
   "source": [
    "target.value_counts(dropna=False)"
   ]
  },
  {
   "cell_type": "code",
   "execution_count": null,
   "metadata": {
    "collapsed": false
   },
   "outputs": [],
   "source": [
    "target = target.values\n",
    "target.shape"
   ]
  },
  {
   "cell_type": "code",
   "execution_count": null,
   "metadata": {
    "collapsed": false
   },
   "outputs": [],
   "source": [
    "data = heart.values[:,:-1]\n",
    "data.shape"
   ]
  },
  {
   "cell_type": "code",
   "execution_count": null,
   "metadata": {
    "collapsed": false
   },
   "outputs": [],
   "source": [
    "from EvalHelper import eval_classifiers\n",
    "eval_classifiers(data, target, depths=[3,5,7], split_data=3, print_prefix='heart')"
   ]
  },
  {
   "cell_type": "code",
   "execution_count": null,
   "metadata": {
    "collapsed": false
   },
   "outputs": [],
   "source": [
    "# from sklearn import tree\n",
    "# from sklearn.model_selection import cross_val_score\n",
    "# for d in range(1,8):\n",
    "#     tree_classifier = tree.DecisionTreeClassifier(max_depth=d)\n",
    "#     scores = cross_val_score(tree_classifier, data, target, cv=5)\n",
    "#     print d\n",
    "#     print scores\n",
    "#     print scores.mean()\n",
    "#     print"
   ]
  },
  {
   "cell_type": "code",
   "execution_count": null,
   "metadata": {
    "collapsed": false
   },
   "outputs": [],
   "source": [
    "# from TreeClassifier import *\n",
    "# from sklearn.model_selection import cross_val_score\n",
    "# for d in range(1,8):\n",
    "# #     tree_classifier = TreeClassifier(0.001, d, normalizer_mode=\"norm\", fit_full_tree=True, print_debug=False)\n",
    "#     tree_classifier = TreeClassifier(0.001, d, normalizer_mode=\"dropSize\", fit_full_tree=True, print_debug=False)\n",
    "#     scores = cross_val_score(tree_classifier, data, target, cv=5)\n",
    "#     print d\n",
    "#     print scores\n",
    "#     print scores.mean()\n",
    "#     print"
   ]
  }
 ],
 "metadata": {
  "anaconda-cloud": {},
  "kernelspec": {
   "display_name": "Python [default]",
   "language": "python",
   "name": "python2"
  },
  "language_info": {
   "codemirror_mode": {
    "name": "ipython",
    "version": 2
   },
   "file_extension": ".py",
   "mimetype": "text/x-python",
   "name": "python",
   "nbconvert_exporter": "python",
   "pygments_lexer": "ipython2",
   "version": "2.7.12"
  }
 },
 "nbformat": 4,
 "nbformat_minor": 1
}
