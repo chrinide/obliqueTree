{
 "cells": [
  {
   "cell_type": "code",
   "execution_count": null,
   "metadata": {
    "collapsed": true
   },
   "outputs": [],
   "source": [
    "import os\n",
    "import numpy as np"
   ]
  },
  {
   "cell_type": "code",
   "execution_count": null,
   "metadata": {
    "collapsed": false
   },
   "outputs": [],
   "source": [
    "d=r'C:\\Temp\\simulations-tests-10'\n",
    "files=[os.path.join(d,o,'results.npz') for o in os.listdir(d) if os.path.isdir(os.path.join(d,o))]"
   ]
  },
  {
   "cell_type": "code",
   "execution_count": null,
   "metadata": {
    "collapsed": false
   },
   "outputs": [],
   "source": [
    "translations = {'arr_0': 'stochastic runs', 'arr_1': \"stochastic mean\",\n",
    "               'arr_2': 'tree runs', 'arr_3': \"tree mean\",\n",
    "               'arr_4': 'svm runs', 'arr_5': \"svm mean\"}\n",
    "includes = {'arr_0': False, 'arr_1': True,\n",
    "               'arr_2': False, 'arr_3': True,\n",
    "               'arr_4': False, 'arr_5': True}\n",
    "\n",
    "for f in files:\n",
    "    x = np.load(f)\n",
    "    print(f)\n",
    "    for k in x:\n",
    "        if includes[k]:\n",
    "            print translations[k]\n",
    "            print x[k]\n",
    "    print"
   ]
  },
  {
   "cell_type": "code",
   "execution_count": null,
   "metadata": {
    "collapsed": true
   },
   "outputs": [],
   "source": []
  },
  {
   "cell_type": "code",
   "execution_count": null,
   "metadata": {
    "collapsed": true
   },
   "outputs": [],
   "source": []
  }
 ],
 "metadata": {
  "anaconda-cloud": {},
  "kernelspec": {
   "display_name": "Python [default]",
   "language": "python",
   "name": "python2"
  },
  "language_info": {
   "codemirror_mode": {
    "name": "ipython",
    "version": 2
   },
   "file_extension": ".py",
   "mimetype": "text/x-python",
   "name": "python",
   "nbconvert_exporter": "python",
   "pygments_lexer": "ipython2",
   "version": "2.7.12"
  }
 },
 "nbformat": 4,
 "nbformat_minor": 1
}
