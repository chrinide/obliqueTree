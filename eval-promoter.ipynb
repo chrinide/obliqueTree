{
 "cells": [
  {
   "cell_type": "code",
   "execution_count": 1,
   "metadata": {
    "collapsed": false
   },
   "outputs": [],
   "source": [
    "import pandas as pd\n",
    "from sklearn.feature_extraction import DictVectorizer\n",
    "import numpy as np"
   ]
  },
  {
   "cell_type": "code",
   "execution_count": 15,
   "metadata": {
    "collapsed": true
   },
   "outputs": [],
   "source": [
    "with open(r\"C:\\Temp\\thesis_data\\fromPaper\\promoter\\promoters.data\") as f:\n",
    "    content = f.readlines()"
   ]
  },
  {
   "cell_type": "code",
   "execution_count": 16,
   "metadata": {
    "collapsed": true
   },
   "outputs": [],
   "source": [
    "features_for_df = {}"
   ]
  },
  {
   "cell_type": "code",
   "execution_count": 17,
   "metadata": {
    "collapsed": false
   },
   "outputs": [],
   "source": [
    "target = [1 if s[0]=='+' else 0 for s in content ]\n",
    "features_for_df['target'] = target"
   ]
  },
  {
   "cell_type": "code",
   "execution_count": 18,
   "metadata": {
    "collapsed": false
   },
   "outputs": [],
   "source": [
    "last = [s.split(',')[-1].strip() for s in content]\n",
    "number_of_features = len(last[0])\n",
    "for i in range(number_of_features):\n",
    "    features_for_df[str(i)] = [l[i] for l in last]"
   ]
  },
  {
   "cell_type": "code",
   "execution_count": 19,
   "metadata": {
    "collapsed": false
   },
   "outputs": [
    {
     "data": {
      "text/html": [
       "<div>\n",
       "<table border=\"1\" class=\"dataframe\">\n",
       "  <thead>\n",
       "    <tr style=\"text-align: right;\">\n",
       "      <th></th>\n",
       "      <th>0</th>\n",
       "      <th>1</th>\n",
       "      <th>10</th>\n",
       "      <th>11</th>\n",
       "      <th>12</th>\n",
       "      <th>13</th>\n",
       "      <th>14</th>\n",
       "      <th>15</th>\n",
       "      <th>16</th>\n",
       "      <th>17</th>\n",
       "      <th>...</th>\n",
       "      <th>52</th>\n",
       "      <th>53</th>\n",
       "      <th>54</th>\n",
       "      <th>55</th>\n",
       "      <th>56</th>\n",
       "      <th>6</th>\n",
       "      <th>7</th>\n",
       "      <th>8</th>\n",
       "      <th>9</th>\n",
       "      <th>target</th>\n",
       "    </tr>\n",
       "  </thead>\n",
       "  <tbody>\n",
       "    <tr>\n",
       "      <th>0</th>\n",
       "      <td>t</td>\n",
       "      <td>a</td>\n",
       "      <td>a</td>\n",
       "      <td>c</td>\n",
       "      <td>g</td>\n",
       "      <td>c</td>\n",
       "      <td>t</td>\n",
       "      <td>t</td>\n",
       "      <td>g</td>\n",
       "      <td>c</td>\n",
       "      <td>...</td>\n",
       "      <td>g</td>\n",
       "      <td>t</td>\n",
       "      <td>c</td>\n",
       "      <td>g</td>\n",
       "      <td>t</td>\n",
       "      <td>c</td>\n",
       "      <td>a</td>\n",
       "      <td>a</td>\n",
       "      <td>t</td>\n",
       "      <td>1</td>\n",
       "    </tr>\n",
       "    <tr>\n",
       "      <th>1</th>\n",
       "      <td>t</td>\n",
       "      <td>g</td>\n",
       "      <td>a</td>\n",
       "      <td>c</td>\n",
       "      <td>a</td>\n",
       "      <td>g</td>\n",
       "      <td>t</td>\n",
       "      <td>t</td>\n",
       "      <td>g</td>\n",
       "      <td>t</td>\n",
       "      <td>...</td>\n",
       "      <td>g</td>\n",
       "      <td>c</td>\n",
       "      <td>c</td>\n",
       "      <td>a</td>\n",
       "      <td>a</td>\n",
       "      <td>c</td>\n",
       "      <td>c</td>\n",
       "      <td>t</td>\n",
       "      <td>g</td>\n",
       "      <td>1</td>\n",
       "    </tr>\n",
       "    <tr>\n",
       "      <th>2</th>\n",
       "      <td>g</td>\n",
       "      <td>t</td>\n",
       "      <td>a</td>\n",
       "      <td>c</td>\n",
       "      <td>t</td>\n",
       "      <td>a</td>\n",
       "      <td>g</td>\n",
       "      <td>t</td>\n",
       "      <td>g</td>\n",
       "      <td>c</td>\n",
       "      <td>...</td>\n",
       "      <td>c</td>\n",
       "      <td>g</td>\n",
       "      <td>g</td>\n",
       "      <td>c</td>\n",
       "      <td>g</td>\n",
       "      <td>g</td>\n",
       "      <td>a</td>\n",
       "      <td>g</td>\n",
       "      <td>a</td>\n",
       "      <td>1</td>\n",
       "    </tr>\n",
       "    <tr>\n",
       "      <th>3</th>\n",
       "      <td>a</td>\n",
       "      <td>a</td>\n",
       "      <td>t</td>\n",
       "      <td>g</td>\n",
       "      <td>t</td>\n",
       "      <td>a</td>\n",
       "      <td>t</td>\n",
       "      <td>c</td>\n",
       "      <td>g</td>\n",
       "      <td>a</td>\n",
       "      <td>...</td>\n",
       "      <td>a</td>\n",
       "      <td>a</td>\n",
       "      <td>c</td>\n",
       "      <td>t</td>\n",
       "      <td>c</td>\n",
       "      <td>g</td>\n",
       "      <td>a</td>\n",
       "      <td>t</td>\n",
       "      <td>g</td>\n",
       "      <td>1</td>\n",
       "    </tr>\n",
       "    <tr>\n",
       "      <th>4</th>\n",
       "      <td>t</td>\n",
       "      <td>c</td>\n",
       "      <td>a</td>\n",
       "      <td>c</td>\n",
       "      <td>t</td>\n",
       "      <td>a</td>\n",
       "      <td>t</td>\n",
       "      <td>t</td>\n",
       "      <td>g</td>\n",
       "      <td>a</td>\n",
       "      <td>...</td>\n",
       "      <td>g</td>\n",
       "      <td>g</td>\n",
       "      <td>t</td>\n",
       "      <td>a</td>\n",
       "      <td>g</td>\n",
       "      <td>a</td>\n",
       "      <td>t</td>\n",
       "      <td>t</td>\n",
       "      <td>a</td>\n",
       "      <td>1</td>\n",
       "    </tr>\n",
       "  </tbody>\n",
       "</table>\n",
       "<p>5 rows × 58 columns</p>\n",
       "</div>"
      ],
      "text/plain": [
       "   0  1 10 11 12 13 14 15 16 17  ...   52 53 54 55 56  6  7  8  9 target\n",
       "0  t  a  a  c  g  c  t  t  g  c  ...    g  t  c  g  t  c  a  a  t      1\n",
       "1  t  g  a  c  a  g  t  t  g  t  ...    g  c  c  a  a  c  c  t  g      1\n",
       "2  g  t  a  c  t  a  g  t  g  c  ...    c  g  g  c  g  g  a  g  a      1\n",
       "3  a  a  t  g  t  a  t  c  g  a  ...    a  a  c  t  c  g  a  t  g      1\n",
       "4  t  c  a  c  t  a  t  t  g  a  ...    g  g  t  a  g  a  t  t  a      1\n",
       "\n",
       "[5 rows x 58 columns]"
      ]
     },
     "execution_count": 19,
     "metadata": {},
     "output_type": "execute_result"
    }
   ],
   "source": [
    "df = pd.DataFrame.from_dict(features_for_df)\n",
    "df.head()"
   ]
  },
  {
   "cell_type": "code",
   "execution_count": 20,
   "metadata": {
    "collapsed": false
   },
   "outputs": [
    {
     "name": "stdout",
     "output_type": "stream",
     "text": [
      "(106, 58)\n"
     ]
    }
   ],
   "source": [
    "print df.shape"
   ]
  },
  {
   "cell_type": "code",
   "execution_count": 21,
   "metadata": {
    "collapsed": true
   },
   "outputs": [],
   "source": [
    "def encode_onehot(df, cols):\n",
    "    vec = DictVectorizer()\n",
    "\n",
    "    vec_data = pd.DataFrame(vec.fit_transform(df[cols].to_dict(outtype='records')).toarray())\n",
    "    vec_data.columns = vec.get_feature_names()\n",
    "    vec_data.index = df.index\n",
    "\n",
    "    df = df.drop(cols, axis=1)\n",
    "    df = df.join(vec_data)\n",
    "    return df"
   ]
  },
  {
   "cell_type": "code",
   "execution_count": 22,
   "metadata": {
    "collapsed": false
   },
   "outputs": [
    {
     "name": "stderr",
     "output_type": "stream",
     "text": [
      "C:\\Users\\tomjur\\AppData\\Local\\Continuum\\Anaconda2\\lib\\site-packages\\ipykernel\\__main__.py:4: FutureWarning: the 'outtype' keyword is deprecated, use 'orient' instead\n"
     ]
    }
   ],
   "source": [
    "df = encode_onehot(df, [str(i) for i in range(number_of_features)])"
   ]
  },
  {
   "cell_type": "code",
   "execution_count": 23,
   "metadata": {
    "collapsed": false
   },
   "outputs": [
    {
     "data": {
      "text/plain": [
       "(106, 229)"
      ]
     },
     "execution_count": 23,
     "metadata": {},
     "output_type": "execute_result"
    }
   ],
   "source": [
    "df.shape"
   ]
  },
  {
   "cell_type": "code",
   "execution_count": 9,
   "metadata": {
    "collapsed": false
   },
   "outputs": [
    {
     "data": {
      "text/plain": [
       "array([1, 1, 1, 1, 1, 1, 1, 1, 1, 1, 1, 1, 1, 1, 1, 1, 1, 1, 1, 1, 1, 1, 1,\n",
       "       1, 1, 1, 1, 1, 1, 1, 1, 1, 1, 1, 1, 1, 1, 1, 1, 1, 1, 1, 1, 1, 1, 1,\n",
       "       1, 1, 1, 1, 1, 1, 1, 0, 0, 0, 0, 0, 0, 0, 0, 0, 0, 0, 0, 0, 0, 0, 0,\n",
       "       0, 0, 0, 0, 0, 0, 0, 0, 0, 0, 0, 0, 0, 0, 0, 0, 0, 0, 0, 0, 0, 0, 0,\n",
       "       0, 0, 0, 0, 0, 0, 0, 0, 0, 0, 0, 0, 0, 0], dtype=int64)"
      ]
     },
     "execution_count": 9,
     "metadata": {},
     "output_type": "execute_result"
    }
   ],
   "source": [
    "target = df.target.values\n",
    "target"
   ]
  },
  {
   "cell_type": "code",
   "execution_count": 10,
   "metadata": {
    "collapsed": false
   },
   "outputs": [
    {
     "data": {
      "text/plain": [
       "0.5"
      ]
     },
     "execution_count": 10,
     "metadata": {},
     "output_type": "execute_result"
    }
   ],
   "source": [
    "target.sum() / float(target.shape[0])"
   ]
  },
  {
   "cell_type": "code",
   "execution_count": 11,
   "metadata": {
    "collapsed": false
   },
   "outputs": [
    {
     "data": {
      "text/plain": [
       "(106L, 228L)"
      ]
     },
     "execution_count": 11,
     "metadata": {},
     "output_type": "execute_result"
    }
   ],
   "source": [
    "data = df.drop('target',axis=1).values\n",
    "data.shape"
   ]
  },
  {
   "cell_type": "code",
   "execution_count": 12,
   "metadata": {
    "collapsed": false
   },
   "outputs": [
    {
     "name": "stdout",
     "output_type": "stream",
     "text": [
      "1\n",
      "[ 0.77272727  0.72727273  0.81818182  0.7         0.7       ]\n",
      "0.743636363636\n",
      "\n",
      "3\n",
      "[ 0.81818182  0.77272727  0.77272727  0.7         0.75      ]\n",
      "0.762727272727\n",
      "\n",
      "5\n",
      "[ 0.72727273  0.72727273  0.86363636  0.8         0.6       ]\n",
      "0.743636363636\n",
      "\n",
      "10\n",
      "[ 0.72727273  0.81818182  0.90909091  0.7         0.8       ]\n",
      "0.790909090909\n",
      "\n"
     ]
    }
   ],
   "source": [
    "from sklearn import tree\n",
    "from sklearn.model_selection import cross_val_score\n",
    "for d in [1,3,5,10]:\n",
    "    tree_classifier = tree.DecisionTreeClassifier(max_depth=d)\n",
    "    scores = cross_val_score(tree_classifier, data, target, cv=5)\n",
    "    print d\n",
    "    print scores\n",
    "    print scores.mean()\n",
    "    print"
   ]
  },
  {
   "cell_type": "code",
   "execution_count": 13,
   "metadata": {
    "collapsed": false
   },
   "outputs": [
    {
     "name": "stdout",
     "output_type": "stream",
     "text": [
      "full normalization\n",
      "full normalization\n",
      "full normalization\n",
      "full normalization\n",
      "full normalization\n",
      "1\n",
      "[ 0.5  0.5  0.5  0.5  0.5]\n",
      "0.5\n",
      "\n",
      "full normalization\n",
      "full normalization\n",
      "full normalization\n",
      "full normalization\n",
      "full normalization\n",
      "3\n",
      "[ 0.90909091  0.86363636  0.95454545  1.          0.85      ]\n",
      "0.915454545455\n",
      "\n",
      "full normalization\n",
      "full normalization\n",
      "full normalization\n",
      "full normalization\n",
      "full normalization\n",
      "5\n",
      "[ 0.90909091  0.86363636  0.90909091  1.          0.85      ]\n",
      "0.906363636364\n",
      "\n",
      "full normalization\n",
      "full normalization\n",
      "full normalization\n",
      "full normalization\n",
      "full normalization\n",
      "10\n",
      "[ 0.90909091  0.86363636  0.90909091  1.          0.85      ]\n",
      "0.906363636364\n",
      "\n",
      "drop size feature\n",
      "drop size feature\n",
      "drop size feature\n",
      "drop size feature\n",
      "drop size feature\n",
      "1\n",
      "[ 0.5  0.5  0.5  0.5  0.5]\n",
      "0.5\n",
      "\n",
      "drop size feature\n",
      "drop size feature\n",
      "drop size feature\n",
      "drop size feature\n",
      "drop size feature\n",
      "3\n",
      "[ 0.90909091  0.86363636  0.95454545  1.          0.85      ]\n",
      "0.915454545455\n",
      "\n",
      "drop size feature\n",
      "drop size feature\n",
      "drop size feature\n",
      "drop size feature\n",
      "drop size feature\n",
      "5\n",
      "[ 0.90909091  0.86363636  0.90909091  1.          0.85      ]\n",
      "0.906363636364\n",
      "\n",
      "drop size feature\n",
      "drop size feature\n",
      "drop size feature\n",
      "drop size feature\n",
      "drop size feature\n",
      "10\n",
      "[ 0.90909091  0.86363636  0.90909091  1.          0.85      ]\n",
      "0.906363636364\n",
      "\n",
      "just bias\n",
      "just bias\n",
      "just bias\n",
      "just bias\n",
      "just bias\n",
      "1\n",
      "[ 0.5  0.5  0.5  0.5  0.5]\n",
      "0.5\n",
      "\n",
      "just bias\n",
      "just bias\n",
      "just bias\n",
      "just bias\n",
      "just bias\n",
      "3\n",
      "[ 0.90909091  0.86363636  0.95454545  1.          0.85      ]\n",
      "0.915454545455\n",
      "\n",
      "just bias\n",
      "just bias\n",
      "just bias\n",
      "just bias\n",
      "just bias\n",
      "5\n",
      "[ 0.90909091  0.86363636  0.90909091  0.95        0.85      ]\n",
      "0.896363636364\n",
      "\n",
      "just bias\n",
      "just bias\n",
      "just bias\n",
      "just bias\n",
      "just bias\n",
      "10\n",
      "[ 0.90909091  0.81818182  0.81818182  0.9         0.85      ]\n",
      "0.859090909091\n",
      "\n"
     ]
    }
   ],
   "source": [
    "from TreeClassifier import *\n",
    "from sklearn.model_selection import cross_val_score\n",
    "for normalize_mode in ['norm', 'dropSize', 'no']:\n",
    "    for d in [1,3,5,10]:\n",
    "        tree_classifier = TreeClassifier(0.001, d, normalizer_mode=normalize_mode, fit_full_tree=True, print_debug=False)\n",
    "        scores = cross_val_score(tree_classifier, data, target, cv=5)\n",
    "        print d\n",
    "        print scores\n",
    "        print scores.mean()\n",
    "        print"
   ]
  },
  {
   "cell_type": "code",
   "execution_count": 14,
   "metadata": {
    "collapsed": false
   },
   "outputs": [
    {
     "name": "stdout",
     "output_type": "stream",
     "text": [
      "[ 0.86363636  0.81818182  0.90909091  0.95        0.85      ]\n",
      "0.878181818182\n",
      "\n"
     ]
    }
   ],
   "source": [
    "from sklearn.svm import LinearSVC\n",
    "from sklearn.model_selection import cross_val_score\n",
    "\n",
    "svm_classifier = LinearSVC()\n",
    "scores = cross_val_score(svm_classifier, data, target, cv=5)\n",
    "print scores\n",
    "print scores.mean()\n",
    "print"
   ]
  }
 ],
 "metadata": {
  "anaconda-cloud": {},
  "kernelspec": {
   "display_name": "Python [default]",
   "language": "python",
   "name": "python2"
  },
  "language_info": {
   "codemirror_mode": {
    "name": "ipython",
    "version": 2
   },
   "file_extension": ".py",
   "mimetype": "text/x-python",
   "name": "python",
   "nbconvert_exporter": "python",
   "pygments_lexer": "ipython2",
   "version": "2.7.12"
  }
 },
 "nbformat": 4,
 "nbformat_minor": 1
}
