{
 "cells": [
  {
   "cell_type": "code",
   "execution_count": null,
   "metadata": {
    "collapsed": true
   },
   "outputs": [],
   "source": [
    "# %load simulations\n",
    "from TreeClassifier import *\n",
    "from TreeHardClassifier import *\n",
    "from sklearn.model_selection import train_test_split\n",
    "from sklearn.model_selection import cross_val_score\n",
    "from sklearn import tree\n",
    "from sklearn.svm import LinearSVC\n",
    "from sklearn import svm\n",
    "import numpy as np\n",
    "import datetime\n",
    "import os"
   ]
  },
  {
   "cell_type": "code",
   "execution_count": null,
   "metadata": {
    "collapsed": true
   },
   "outputs": [],
   "source": [
    "def generate_data(n,d):\n",
    "    X = np.random.normal(size=[n, d])\n",
    "    row_squared_sums = np.reshape(np.sqrt(np.square(X).sum(axis=1)), (-1, 1))\n",
    "    X = np.divide(X, row_squared_sums)\n",
    "    w = np.random.normal(size=[2, d])\n",
    "    row_squared_sums = np.reshape(np.sqrt(np.square(w).sum(axis=1)), (-1, 1))\n",
    "    w = np.divide(w, row_squared_sums)\n",
    "    y1 = np.dot(X,np.transpose(w[0,:]))\n",
    "    y2 = np.dot(X,np.transpose(w[1,:]))\n",
    "    y = np.multiply(y1, y2)\n",
    "    y = np.greater(y,0.0).reshape(-1)\n",
    "#     print y.shape\n",
    "    return X,y"
   ]
  },
  {
   "cell_type": "code",
   "execution_count": null,
   "metadata": {
    "collapsed": true
   },
   "outputs": [],
   "source": [
    "# def generate_data(n,d):\n",
    "#     X = np.random.normal(size=[n, d])\n",
    "#     row_squared_sums = np.reshape(np.sqrt(np.square(X).sum(axis=1)), (-1, 1))\n",
    "#     X = np.divide(X, row_squared_sums)\n",
    "#     y = np.dot(X,np.ones((d,1)))\n",
    "#     other_direction = np.concatenate([np.ones((d/2,1)), -1*np.ones((d/2,1))], axis=0)\n",
    "#     y = np.multiply(y, np.dot(X,other_direction))\n",
    "#     y = np.greater(y,0.0).reshape(-1)\n",
    "# #     print y.shape\n",
    "#     return X,y"
   ]
  },
  {
   "cell_type": "code",
   "execution_count": null,
   "metadata": {
    "collapsed": true
   },
   "outputs": [],
   "source": [
    "# def generate_data(n,d):\n",
    "#     X = np.random.normal(size=[n, d])\n",
    "#     row_squared_sums = np.reshape(np.sqrt(np.square(X).sum(axis=1)), (-1, 1))\n",
    "#     X = np.divide(X, row_squared_sums)\n",
    "# #     print X.shape\n",
    "#     slice_x = X[:,0:2]\n",
    "# #     print slice_x.shape\n",
    "#     rotation = np.sqrt(0.5) * np.array([[1.0,-1.0],[1.0,1.0]])\n",
    "# #     print rotation\n",
    "#     slice_x = np.dot(slice_x,rotation)\n",
    "#     y = np.greater(np.multiply(slice_x[:,0], slice_x[:,1]).reshape(-1),0.0)\n",
    "# #     print y.shape\n",
    "#     return X,y"
   ]
  },
  {
   "cell_type": "code",
   "execution_count": null,
   "metadata": {
    "collapsed": true
   },
   "outputs": [],
   "source": [
    "n = 10000\n",
    "d = 8\n",
    "\n",
    "def manage_run(n,d):\n",
    "    X,y = generate_data(n,d)\n",
    "    maj = y.sum()/float(len(y))\n",
    "    maj = np.max([maj,1-maj])\n",
    "    print \"majority\"\n",
    "    print maj\n",
    "    \n",
    "    svm_scores = cross_val_score(LinearSVC(fit_intercept=True), X, y, cv=5)\n",
    "    print \"svm\"\n",
    "    print svm_scores\n",
    "    print svm_scores.mean()\n",
    "    \n",
    "#     stochastic_scores = cross_val_score(TreeClassifier(normalizer_mode='no', number_of_iterations=10, print_debug=False, fit_full_tree=True), X, y, cv=5)\n",
    "    stochastic_scores = cross_val_score(TreeClassifier(normalizer_mode='no', number_of_iterations=80, print_debug=False, fit_full_tree=False), X, y, cv=5)\n",
    "    print \"stochasic\"\n",
    "    print stochastic_scores\n",
    "    print stochastic_scores.mean()\n",
    "        \n",
    "    tree_scores = cross_val_score(tree.DecisionTreeClassifier(max_depth=10), X, y, cv=5)\n",
    "    print \"regular\"\n",
    "    print tree_scores\n",
    "    print tree_scores.mean()\n",
    "    \n",
    "    return maj, svm_scores, stochastic_scores, tree_scores"
   ]
  },
  {
   "cell_type": "code",
   "execution_count": null,
   "metadata": {
    "collapsed": false
   },
   "outputs": [],
   "source": [
    "n = 10000\n",
    "d_range = [(1+i)*2 for i in range(2,15)]\n",
    "\n",
    "# maj = {}\n",
    "svm_scores_means = {}\n",
    "stochastic_scores_means = {}\n",
    "tree_scores_means = {}\n",
    "\n",
    "for d in d_range:\n",
    "    print d\n",
    "    svm_scores_means[d] = []\n",
    "    stochastic_scores_means[d] = [] \n",
    "    tree_scores_means[d] = []\n",
    "    for i in range(3):\n",
    "        _, svm_scores, stochastic_scores, tree_scores = manage_run(n,d)\n",
    "        svm_scores_means[d] = svm_scores if i ==0 else np.concatenate([svm_scores_means[d],svm_scores])\n",
    "        stochastic_scores_means[d] = stochastic_scores if i ==0 else np.concatenate([stochastic_scores_means[d],\n",
    "                                                                                     stochastic_scores])\n",
    "        tree_scores_means[d] = tree_scores if i ==0 else np.concatenate([tree_scores_means[d],tree_scores])\n",
    "    print ''"
   ]
  },
  {
   "cell_type": "code",
   "execution_count": null,
   "metadata": {
    "collapsed": true
   },
   "outputs": [],
   "source": [
    "# n = 10000\n",
    "# d_range = [(1+i)*2 for i in range(2,15)]\n",
    "\n",
    "# maj = {}\n",
    "# svm_scores_means = {}\n",
    "# stochastic_scores_means = {}\n",
    "# tree_scores_means = {}\n",
    "\n",
    "# for d in d_range:\n",
    "#     print d\n",
    "#     maj[d], svm_scores_means[d], stochastic_scores_means[d], tree_scores_means[d] = manage_run(n,d)\n",
    "#     print ''"
   ]
  },
  {
   "cell_type": "code",
   "execution_count": null,
   "metadata": {
    "collapsed": true
   },
   "outputs": [],
   "source": [
    "%matplotlib inline"
   ]
  },
  {
   "cell_type": "code",
   "execution_count": null,
   "metadata": {
    "collapsed": false
   },
   "outputs": [],
   "source": [
    "import matplotlib.pyplot as plt\n",
    "\n",
    "fig, ax = plt.subplots()\n",
    "\n",
    "# ax.plot(d_range,[maj[m].mean() for m in d_range], label = 'majority')\n",
    "ax.plot(d_range,[svm_scores_means[m].mean() for m in d_range], label = 'linear SVM')\n",
    "ax.plot(d_range,[stochastic_scores_means[m].mean() for m in d_range], label = 'stochastic tree')\n",
    "ax.plot(d_range,[tree_scores_means[m].mean() for m in d_range], label = 'regular tree')\n",
    "\n",
    "ax.margins(0.05) # 5% padding in all directions\n",
    "# legend = ax.legend(lbbox_to_anchor=(1.1, 1.05), shadow=True)\n",
    "\n",
    "ax.set_xlabel('dimensions')\n",
    "ax.set_ylabel('accuracy')\n",
    "\n",
    "# Shrink current axis's height by 10% on the bottom\n",
    "box = ax.get_position()\n",
    "ax.set_position([box.x0, box.y0 + box.height * 0.1,\n",
    "                 box.width, box.height * 0.9])\n",
    "\n",
    "# Put a legend below current axis\n",
    "ax.legend(loc='upper center', bbox_to_anchor=(0.8, 0.87),\n",
    "          fancybox=False, shadow=True, ncol=1)\n",
    "\n",
    "plt.show()\n",
    "fig.savefig(r'c:\\temp\\multi-dim-xor-simulation.pdf')"
   ]
  },
  {
   "cell_type": "code",
   "execution_count": null,
   "metadata": {
    "collapsed": false
   },
   "outputs": [],
   "source": [
    "# tree_scores = cross_val_score(tree.DecisionTreeClassifier(max_depth=3), X, y, cv=5)\n",
    "# print \"regular\"\n",
    "# print tree_scores.mean()"
   ]
  },
  {
   "cell_type": "code",
   "execution_count": null,
   "metadata": {
    "collapsed": false
   },
   "outputs": [],
   "source": [
    "# gaus_scores = cross_val_score(svm.SVC(kernel='rbf', gamma=2), X, y, cv=5)\n",
    "# print \"gauss\"\n",
    "# print gaus_scores.mean()"
   ]
  }
 ],
 "metadata": {
  "anaconda-cloud": {},
  "kernelspec": {
   "display_name": "Python [default]",
   "language": "python",
   "name": "python2"
  },
  "language_info": {
   "codemirror_mode": {
    "name": "ipython",
    "version": 2
   },
   "file_extension": ".py",
   "mimetype": "text/x-python",
   "name": "python",
   "nbconvert_exporter": "python",
   "pygments_lexer": "ipython2",
   "version": "2.7.12"
  }
 },
 "nbformat": 4,
 "nbformat_minor": 1
}
