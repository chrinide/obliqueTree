{
 "cells": [
  {
   "cell_type": "code",
   "execution_count": null,
   "metadata": {
    "collapsed": true
   },
   "outputs": [],
   "source": [
    "# %load simulations\n",
    "from TreeClassifier import *\n",
    "from TreeHardClassifier import *\n",
    "from sklearn.model_selection import train_test_split\n",
    "from sklearn.model_selection import cross_val_score\n",
    "from sklearn import tree\n",
    "from sklearn.svm import LinearSVC\n",
    "from sklearn import svm\n",
    "import numpy as np\n",
    "import datetime\n",
    "import os"
   ]
  },
  {
   "cell_type": "code",
   "execution_count": null,
   "metadata": {
    "collapsed": true
   },
   "outputs": [],
   "source": [
    "def generate_data(n,d, multiplier):\n",
    "    X1 = np.random.normal(size=[n/2, d])\n",
    "#     row_squared_sums = np.reshape(np.sqrt(np.square(X1).sum(axis=1)), (-1, 1))\n",
    "    row_squared_sums = np.reshape(np.abs(X1).sum(axis=1), (-1, 1))\n",
    "    X1 = np.divide(X1, row_squared_sums)\n",
    "    X2 = np.random.normal(size=[n/2, d])\n",
    "#     row_squared_sums = np.reshape(np.sqrt(np.square(X2).sum(axis=1)), (-1, 1))\n",
    "    row_squared_sums = np.reshape(np.abs(X2).sum(axis=1), (-1, 1))\n",
    "    X2 = np.divide(X2, multiplier*row_squared_sums)\n",
    "    X = np.concatenate([X1,X2],axis=0)\n",
    "    y = np.concatenate([np.ones(n/2),np.zeros(n/2)])\n",
    "    return X,y"
   ]
  },
  {
   "cell_type": "code",
   "execution_count": null,
   "metadata": {
    "collapsed": true
   },
   "outputs": [],
   "source": [
    "n = 100000\n",
    "d = 100\n",
    "\n",
    "def manage_run(multiplier):\n",
    "    X,y = generate_data(n,d,multiplier)\n",
    "    \n",
    "    svm_scores = cross_val_score(LinearSVC(fit_intercept=True), X, y, cv=5)\n",
    "    print \"svm\"\n",
    "    print svm_scores\n",
    "    print svm_scores.mean()\n",
    "    \n",
    "    stochastic_scores = cross_val_score(TreeClassifier(normalizer_mode='no', number_of_iterations=3, print_debug=False, fit_full_tree=False), X, y, cv=5)\n",
    "    print \"stochasic\"\n",
    "    print stochastic_scores\n",
    "    print stochastic_scores.mean()\n",
    "        \n",
    "    tree_scores = cross_val_score(tree.DecisionTreeClassifier(max_depth=3), X, y, cv=5)\n",
    "    print \"regular\"\n",
    "    print tree_scores\n",
    "    print tree_scores.mean()\n",
    "    \n",
    "    return svm_scores, stochastic_scores, tree_scores"
   ]
  },
  {
   "cell_type": "code",
   "execution_count": null,
   "metadata": {
    "collapsed": false
   },
   "outputs": [],
   "source": [
    "# multipliers = [1.01]\n",
    "# multipliers"
   ]
  },
  {
   "cell_type": "code",
   "execution_count": null,
   "metadata": {
    "collapsed": false
   },
   "outputs": [],
   "source": [
    "multipliers = [1 + 1/2.0**(i+1) for i in range(4)]\n",
    "multipliers"
   ]
  },
  {
   "cell_type": "code",
   "execution_count": null,
   "metadata": {
    "collapsed": false
   },
   "outputs": [],
   "source": [
    "multipliers += [2.0**i for i in range(8)]\n",
    "multipliers.sort()\n",
    "multipliers"
   ]
  },
  {
   "cell_type": "code",
   "execution_count": null,
   "metadata": {
    "collapsed": true
   },
   "outputs": [],
   "source": [
    "multipliers = [1.0, 2.0, 16.0, 100.0]"
   ]
  },
  {
   "cell_type": "code",
   "execution_count": null,
   "metadata": {
    "collapsed": false
   },
   "outputs": [],
   "source": [
    "svm_scores_means = {}\n",
    "stochastic_scores_means = {}\n",
    "tree_scores_means = {}\n",
    "\n",
    "for m in multipliers:\n",
    "    print m\n",
    "    svm_scores_means[m], stochastic_scores_means[m], tree_scores_means[m] = manage_run(m)\n",
    "    print ''"
   ]
  },
  {
   "cell_type": "code",
   "execution_count": null,
   "metadata": {
    "collapsed": true
   },
   "outputs": [],
   "source": [
    "%matplotlib inline"
   ]
  },
  {
   "cell_type": "code",
   "execution_count": null,
   "metadata": {
    "collapsed": false
   },
   "outputs": [],
   "source": [
    "import matplotlib.pyplot as plt\n",
    "\n",
    "fig, ax = plt.subplots()\n",
    "\n",
    "ax.plot(np.log2(multipliers),[svm_scores_means[m].mean() for m in multipliers], label = 'linear SVM')\n",
    "ax.plot(np.log2(multipliers),[stochastic_scores_means[m].mean() for m in multipliers], label = 'stochastic tree')\n",
    "ax.plot(np.log2(multipliers),[tree_scores_means[m].mean() for m in multipliers], label = 'regular tree')\n",
    "\n",
    "ax.margins(0.05) # 5% padding in all directions\n",
    "# legend = ax.legend(lbbox_to_anchor=(1.1, 1.05), shadow=True)\n",
    "\n",
    "ax.set_xlabel('multiplier - Log scale')\n",
    "ax.set_ylabel('accuracy')\n",
    "\n",
    "# Shrink current axis's height by 10% on the bottom\n",
    "box = ax.get_position()\n",
    "ax.set_position([box.x0, box.y0 + box.height * 0.1,\n",
    "                 box.width, box.height * 0.9])\n",
    "\n",
    "# Put a legend below current axis\n",
    "ax.legend(loc='upper center', bbox_to_anchor=(0.8, 0.87),\n",
    "          fancybox=False, shadow=True, ncol=1)\n",
    "\n",
    "plt.show()\n",
    "fig.savefig(r'c:\\temp\\circle-simulation.pdf')"
   ]
  },
  {
   "cell_type": "code",
   "execution_count": null,
   "metadata": {
    "collapsed": false
   },
   "outputs": [],
   "source": [
    "# tree_scores = cross_val_score(tree.DecisionTreeClassifier(max_depth=3), X, y, cv=5)\n",
    "# print \"regular\"\n",
    "# print tree_scores.mean()"
   ]
  },
  {
   "cell_type": "code",
   "execution_count": null,
   "metadata": {
    "collapsed": false
   },
   "outputs": [],
   "source": [
    "# gaus_scores = cross_val_score(svm.SVC(kernel='rbf', gamma=2), X, y, cv=5)\n",
    "# print \"gauss\"\n",
    "# print gaus_scores.mean()"
   ]
  }
 ],
 "metadata": {
  "anaconda-cloud": {},
  "kernelspec": {
   "display_name": "Python [default]",
   "language": "python",
   "name": "python2"
  },
  "language_info": {
   "codemirror_mode": {
    "name": "ipython",
    "version": 2
   },
   "file_extension": ".py",
   "mimetype": "text/x-python",
   "name": "python",
   "nbconvert_exporter": "python",
   "pygments_lexer": "ipython2",
   "version": "2.7.12"
  }
 },
 "nbformat": 4,
 "nbformat_minor": 1
}
