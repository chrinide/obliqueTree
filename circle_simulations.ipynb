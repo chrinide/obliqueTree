{
 "cells": [
  {
   "cell_type": "code",
   "execution_count": 69,
   "metadata": {
    "collapsed": true
   },
   "outputs": [],
   "source": [
    "# %load simulations\n",
    "from TreeClassifier import *\n",
    "from TreeHardClassifier import *\n",
    "from sklearn.model_selection import train_test_split\n",
    "from sklearn.model_selection import cross_val_score\n",
    "from sklearn import tree\n",
    "from sklearn.svm import LinearSVC\n",
    "from sklearn import svm\n",
    "import numpy as np\n",
    "import datetime\n",
    "import os"
   ]
  },
  {
   "cell_type": "code",
   "execution_count": 70,
   "metadata": {
    "collapsed": true
   },
   "outputs": [],
   "source": [
    "def generate_data(n,d, multiplier):\n",
    "    X1 = np.random.normal(size=[n/2, d])\n",
    "    row_squared_sums = np.reshape(np.sqrt(np.square(X1).sum(axis=1)), (-1, 1))\n",
    "    X1 = np.divide(X1, row_squared_sums)\n",
    "    X2 = np.random.normal(size=[n/2, d])\n",
    "    row_squared_sums = np.reshape(np.sqrt(np.square(X2).sum(axis=1)), (-1, 1))\n",
    "    X2 = np.divide(X2, multiplier*row_squared_sums)\n",
    "    X = np.concatenate([X1,X2],axis=0)\n",
    "    y = np.concatenate([np.ones(n/2),np.zeros(n/2)])\n",
    "    return X,y"
   ]
  },
  {
   "cell_type": "code",
   "execution_count": 71,
   "metadata": {
    "collapsed": true
   },
   "outputs": [],
   "source": [
    "n = 100000\n",
    "d = 50\n",
    "\n",
    "def manage_run(multiplier):\n",
    "    X,y = generate_data(n,d,multiplier)\n",
    "    \n",
    "    svm_scores = cross_val_score(LinearSVC(fit_intercept=True), X, y, cv=5)\n",
    "    print \"svm\"\n",
    "    print svm_scores\n",
    "    print svm_scores.mean()\n",
    "    \n",
    "    stochastic_scores = cross_val_score(TreeClassifier(normalizer_mode='no', number_of_iterations=3, print_debug=False), X, y, cv=5)\n",
    "    print \"stochasic\"\n",
    "    print stochastic_scores\n",
    "    print stochastic_scores.mean()\n",
    "        \n",
    "    tree_scores = cross_val_score(tree.DecisionTreeClassifier(max_depth=3), X, y, cv=5)\n",
    "    print \"regular\"\n",
    "    print tree_scores\n",
    "    print tree_scores.mean()\n",
    "    \n",
    "    return svm_scores, stochastic_scores, tree_scores"
   ]
  },
  {
   "cell_type": "code",
   "execution_count": 72,
   "metadata": {
    "collapsed": false
   },
   "outputs": [
    {
     "data": {
      "text/plain": [
       "[1.5, 1.25, 1.125, 1.0625]"
      ]
     },
     "execution_count": 72,
     "metadata": {},
     "output_type": "execute_result"
    }
   ],
   "source": [
    "multipliers = [1 + 1/2.0**(i+1) for i in range(4)]\n",
    "multipliers"
   ]
  },
  {
   "cell_type": "code",
   "execution_count": 73,
   "metadata": {
    "collapsed": false
   },
   "outputs": [
    {
     "data": {
      "text/plain": [
       "[1.0, 1.0625, 1.125, 1.25, 1.5, 2.0, 4.0, 8.0, 16.0, 32.0, 64.0, 128.0]"
      ]
     },
     "execution_count": 73,
     "metadata": {},
     "output_type": "execute_result"
    }
   ],
   "source": [
    "multipliers += [2.0**i for i in range(8)]\n",
    "multipliers.sort()\n",
    "multipliers"
   ]
  },
  {
   "cell_type": "code",
   "execution_count": 74,
   "metadata": {
    "collapsed": false
   },
   "outputs": [
    {
     "name": "stdout",
     "output_type": "stream",
     "text": [
      "1.0\n",
      "svm\n",
      "[ 0.4983   0.5013   0.5002   0.4972   0.49885]\n",
      "0.49917\n",
      "stochasic\n",
      "[ 0.49745  0.501    0.5001   0.49705  0.49905]\n",
      "0.49893\n",
      "regular\n",
      "[ 0.4999   0.5022   0.5      0.4991   0.50155]\n",
      "0.50055\n",
      "\n",
      "1.0625\n",
      "svm\n",
      "[ 0.50245  0.49915  0.50045  0.5064   0.49355]\n",
      "0.5004\n",
      "stochasic\n",
      "[ 0.8496   0.8259   0.83275  0.835    0.80905]\n",
      "0.83046\n",
      "regular\n",
      "[ 0.51305  0.5123   0.51685  0.51405  0.50985]\n",
      "0.51322\n",
      "\n",
      "1.125\n",
      "svm\n",
      "[ 0.4975   0.50505  0.50085  0.4987   0.50295]\n",
      "0.50101\n",
      "stochasic\n",
      "[ 0.99955  0.99985  0.9998   0.9996   0.99985]\n",
      "0.99973\n",
      "regular\n",
      "[ 0.53005  0.5262   0.5306   0.52955  0.53395]\n",
      "0.53007\n",
      "\n",
      "1.25\n",
      "svm\n",
      "[ 0.50265  0.4977   0.4999   0.50145  0.50505]\n",
      "0.50135\n",
      "stochasic\n",
      "[ 1.  1.  1.  1.  1.]\n",
      "1.0\n",
      "regular\n",
      "[ 0.55835  0.55995  0.5577   0.56065  0.5577 ]\n",
      "0.55887\n",
      "\n",
      "1.5\n",
      "svm\n",
      "[ 0.50165  0.49745  0.49475  0.4956   0.4981 ]\n",
      "0.49751\n",
      "stochasic\n",
      "[ 1.  1.  1.  1.  1.]\n",
      "1.0\n",
      "regular\n",
      "[ 0.60735  0.609    0.6044   0.6032   0.61205]\n",
      "0.6072\n",
      "\n",
      "2.0\n",
      "svm\n",
      "[ 0.4988  0.5004  0.4944  0.5026  0.4926]\n",
      "0.49776\n",
      "stochasic\n",
      "[ 1.  1.  1.  1.  1.]\n",
      "1.0\n",
      "regular\n",
      "[ 0.68535  0.68705  0.68675  0.68825  0.68915]\n",
      "0.68731\n",
      "\n",
      "4.0\n",
      "svm\n",
      "[ 0.5165   0.511    0.5096   0.51525  0.5092 ]\n",
      "0.51231\n",
      "stochasic\n",
      "[ 1.  1.  1.  1.  1.]\n",
      "1.0\n",
      "regular\n",
      "[ 0.83485  0.83265  0.8375   0.83785  0.83425]\n",
      "0.83542\n",
      "\n",
      "8.0\n",
      "svm\n",
      "[ 0.52715  0.52215  0.5279   0.5247   0.52805]\n",
      "0.52599\n",
      "stochasic\n",
      "[ 1.  1.  1.  1.  1.]\n",
      "1.0\n",
      "regular\n",
      "[ 0.92265  0.92315  0.9177   0.9167   0.91535]\n",
      "0.91911\n",
      "\n",
      "16.0\n",
      "svm\n",
      "[ 0.55055  0.55865  0.54955  0.54495  0.552  ]\n",
      "0.55114\n",
      "stochasic\n",
      "[ 1.  1.  1.  1.  1.]\n",
      "1.0\n",
      "regular\n",
      "[ 0.96055  0.95695  0.9598   0.96125  0.95975]\n",
      "0.95966\n",
      "\n",
      "32.0\n",
      "svm\n",
      "[ 0.60825  0.60615  0.61555  0.61805  0.61305]\n",
      "0.61221\n",
      "stochasic\n",
      "[ 1.  1.  1.  1.  1.]\n",
      "1.0\n",
      "regular\n",
      "[ 0.97855  0.9804   0.9785   0.9791   0.9792 ]\n",
      "0.97915\n",
      "\n",
      "64.0\n",
      "svm\n",
      "[ 0.68105  0.68485  0.68095  0.6837   0.66565]\n",
      "0.67924\n",
      "stochasic\n",
      "[ 1.  1.  1.  1.  1.]\n",
      "1.0\n",
      "regular\n",
      "[ 0.9897   0.98965  0.98985  0.98915  0.9901 ]\n",
      "0.98969\n",
      "\n",
      "128.0\n",
      "svm\n",
      "[ 0.73915  0.7342   0.73795  0.73655  0.7352 ]\n",
      "0.73661\n",
      "stochasic\n",
      "[ 1.  1.  1.  1.  1.]\n",
      "1.0\n",
      "regular\n",
      "[ 0.9947   0.99505  0.99425  0.9953   0.99565]\n",
      "0.99499\n",
      "\n"
     ]
    }
   ],
   "source": [
    "svm_scores_means = {}\n",
    "stochastic_scores_means = {}\n",
    "tree_scores_means = {}\n",
    "\n",
    "for m in multipliers:\n",
    "    print m\n",
    "    svm_scores_means[m], stochastic_scores_means[m], tree_scores_means[m] = manage_run(m)\n",
    "    print ''"
   ]
  },
  {
   "cell_type": "code",
   "execution_count": 75,
   "metadata": {
    "collapsed": true
   },
   "outputs": [],
   "source": [
    "%matplotlib inline"
   ]
  },
  {
   "cell_type": "code",
   "execution_count": 106,
   "metadata": {
    "collapsed": false
   },
   "outputs": [
    {
     "data": {
      "image/png": "[encoded data removed]",
      "text/plain": [
       "<matplotlib.figure.Figure at 0xcba8dd8>"
      ]
     },
     "metadata": {},
     "output_type": "display_data"
    }
   ],
   "source": [
    "import matplotlib.pyplot as plt\n",
    "\n",
    "fig, ax = plt.subplots()\n",
    "\n",
    "ax.plot(np.log2(multipliers),[svm_scores_means[m].mean() for m in multipliers], label = 'linear SVM')\n",
    "ax.plot(np.log2(multipliers),[stochastic_scores_means[m].mean() for m in multipliers], label = 'stochastic tree')\n",
    "ax.plot(np.log2(multipliers),[tree_scores_means[m].mean() for m in multipliers], label = 'regular tree')\n",
    "\n",
    "ax.margins(0.05) # 5% padding in all directions\n",
    "# legend = ax.legend(lbbox_to_anchor=(1.1, 1.05), shadow=True)\n",
    "\n",
    "ax.set_xlabel('multiplier')\n",
    "ax.set_ylabel('accuracy')\n",
    "\n",
    "# Shrink current axis's height by 10% on the bottom\n",
    "box = ax.get_position()\n",
    "ax.set_position([box.x0, box.y0 + box.height * 0.1,\n",
    "                 box.width, box.height * 0.9])\n",
    "\n",
    "# Put a legend below current axis\n",
    "ax.legend(loc='upper center', bbox_to_anchor=(0.8, 0.87),\n",
    "          fancybox=False, shadow=True, ncol=1)\n",
    "\n",
    "plt.show()\n",
    "fig.savefig(r'c:\\temp\\circle-simulation.pdf')"
   ]
  },
  {
   "cell_type": "code",
   "execution_count": 77,
   "metadata": {
    "collapsed": false
   },
   "outputs": [],
   "source": [
    "# tree_scores = cross_val_score(tree.DecisionTreeClassifier(max_depth=3), X, y, cv=5)\n",
    "# print \"regular\"\n",
    "# print tree_scores.mean()"
   ]
  },
  {
   "cell_type": "code",
   "execution_count": 78,
   "metadata": {
    "collapsed": false
   },
   "outputs": [],
   "source": [
    "# gaus_scores = cross_val_score(svm.SVC(kernel='rbf', gamma=2), X, y, cv=5)\n",
    "# print \"gauss\"\n",
    "# print gaus_scores.mean()"
   ]
  }
 ],
 "metadata": {
  "anaconda-cloud": {},
  "kernelspec": {
   "display_name": "Python [default]",
   "language": "python",
   "name": "python2"
  },
  "language_info": {
   "codemirror_mode": {
    "name": "ipython",
    "version": 2
   },
   "file_extension": ".py",
   "mimetype": "text/x-python",
   "name": "python",
   "nbconvert_exporter": "python",
   "pygments_lexer": "ipython2",
   "version": "2.7.12"
  }
 },
 "nbformat": 4,
 "nbformat_minor": 1
}
