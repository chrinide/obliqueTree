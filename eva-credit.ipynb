{
 "cells": [
  {
   "cell_type": "code",
   "execution_count": null,
   "metadata": {
    "collapsed": true
   },
   "outputs": [],
   "source": [
    "import pandas as pd\n",
    "from sklearn.feature_extraction import DictVectorizer\n",
    "import numpy as np"
   ]
  },
  {
   "cell_type": "code",
   "execution_count": null,
   "metadata": {
    "collapsed": true
   },
   "outputs": [],
   "source": [
    "def encode_onehot(df, cols):\n",
    "    vec = DictVectorizer()\n",
    "\n",
    "    vec_data = pd.DataFrame(vec.fit_transform(df[cols].to_dict(outtype='records')).toarray())\n",
    "    vec_data.columns = vec.get_feature_names()\n",
    "    vec_data.index = df.index\n",
    "\n",
    "    df = df.drop(cols, axis=1)\n",
    "    df = df.join(vec_data)\n",
    "    return df"
   ]
  },
  {
   "cell_type": "code",
   "execution_count": null,
   "metadata": {
    "collapsed": false
   },
   "outputs": [],
   "source": [
    "data = pd.read_csv(r\"C:\\Temp\\thesis_data\\credit\\crx.data\",\n",
    "                   names=['A1', 'A2', 'A3', 'A4', 'A5', 'A6', 'A7', 'A8', 'A9',\n",
    "                          'A10', 'A11', 'A12', 'A13', 'A14', 'A15', 'A16'], na_values = '?'\n",
    "                  )\n",
    "data.head()"
   ]
  },
  {
   "cell_type": "code",
   "execution_count": null,
   "metadata": {
    "collapsed": false
   },
   "outputs": [],
   "source": [
    "print len(data)\n",
    "data = data.dropna()\n",
    "print len(data)\n",
    "data = data.iloc[np.random.permutation(len(data))]"
   ]
  },
  {
   "cell_type": "code",
   "execution_count": null,
   "metadata": {
    "collapsed": false
   },
   "outputs": [],
   "source": [
    "data = data.replace({\n",
    "        'A1':{'a':1.0, 'b':-1.0},\n",
    "        'A9':{'t':1.0, 'f':-1.0},\n",
    "        'A10':{'t':1.0, 'f':-1.0},\n",
    "        'A12':{'t':1.0, 'f':-1.0},\n",
    "        'A16':{'+':1, '-':0}\n",
    "    })\n",
    "data.head()"
   ]
  },
  {
   "cell_type": "code",
   "execution_count": null,
   "metadata": {
    "collapsed": false
   },
   "outputs": [],
   "source": [
    "data = encode_onehot(data, ['A4', 'A5', 'A6', 'A7', 'A13'])\n",
    "data.head()"
   ]
  },
  {
   "cell_type": "code",
   "execution_count": null,
   "metadata": {
    "collapsed": false
   },
   "outputs": [],
   "source": [
    "target = data['A16'].values.astype(int)\n",
    "target"
   ]
  },
  {
   "cell_type": "code",
   "execution_count": null,
   "metadata": {
    "collapsed": false
   },
   "outputs": [],
   "source": [
    "print data.values.shape\n",
    "data = data.drop('A16', axis=1)\n",
    "print data.values.shape"
   ]
  },
  {
   "cell_type": "code",
   "execution_count": null,
   "metadata": {
    "collapsed": false
   },
   "outputs": [],
   "source": [
    "data = data.values.astype(float)\n",
    "data"
   ]
  },
  {
   "cell_type": "code",
   "execution_count": null,
   "metadata": {
    "collapsed": false
   },
   "outputs": [],
   "source": [
    "target.sum() / float(len(target))"
   ]
  },
  {
   "cell_type": "code",
   "execution_count": null,
   "metadata": {
    "collapsed": false
   },
   "outputs": [],
   "source": [
    "from EvalHelper import eval_classifiers\n",
    "eval_classifiers(data, target, depths=[3,5,7], split_data=3)"
   ]
  },
  {
   "cell_type": "code",
   "execution_count": null,
   "metadata": {
    "collapsed": true
   },
   "outputs": [],
   "source": []
  },
  {
   "cell_type": "code",
   "execution_count": null,
   "metadata": {
    "collapsed": true
   },
   "outputs": [],
   "source": []
  },
  {
   "cell_type": "code",
   "execution_count": null,
   "metadata": {
    "collapsed": true
   },
   "outputs": [],
   "source": []
  },
  {
   "cell_type": "code",
   "execution_count": null,
   "metadata": {
    "collapsed": true
   },
   "outputs": [],
   "source": []
  },
  {
   "cell_type": "code",
   "execution_count": null,
   "metadata": {
    "collapsed": true
   },
   "outputs": [],
   "source": []
  },
  {
   "cell_type": "code",
   "execution_count": null,
   "metadata": {
    "collapsed": false
   },
   "outputs": [],
   "source": [
    "# msk = np.random.rand(len(data)) < 0.8\n",
    "# train_data  = data[msk,:]\n",
    "# test_data  = data[~msk,:]\n",
    "# train_labels = target[msk]\n",
    "# test_labels = target[~msk]\n",
    "# print len(data)\n",
    "# print len(train_data)\n",
    "# print len(test_data)"
   ]
  },
  {
   "cell_type": "code",
   "execution_count": null,
   "metadata": {
    "collapsed": false
   },
   "outputs": [],
   "source": [
    "# from sklearn.metrics import accuracy_score\n",
    "# from sklearn import tree\n",
    "# for d in range(1,7):\n",
    "#     tree_classifier = tree.DecisionTreeClassifier(max_depth=d)\n",
    "#     tree_classifier.fit(train_data, train_labels)\n",
    "#     scores = accuracy_score(test_labels, tree_classifier.predict(test_data))\n",
    "#     print d\n",
    "#     print scores\n",
    "#     print"
   ]
  },
  {
   "cell_type": "code",
   "execution_count": null,
   "metadata": {
    "collapsed": false
   },
   "outputs": [],
   "source": [
    "# from sklearn.metrics import accuracy_score\n",
    "# from TreeClassifier import *\n",
    "# for d in range(1,30):\n",
    "#     tree_classifier = TreeClassifier(0.001, d, normalizer_mode=\"norm\", fit_full_tree=True, print_debug=False)\n",
    "# #     tree_classifier = TreeClassifier(0.001, d, normalizer_mode=\"dropSize\", fit_full_tree=True, print_debug=False)\n",
    "#     tree_classifier.fit(train_data, train_labels)\n",
    "#     scores = accuracy_score(test_labels, tree_classifier.predict(test_data))\n",
    "#     print d\n",
    "#     print scores\n",
    "#     print"
   ]
  },
  {
   "cell_type": "code",
   "execution_count": null,
   "metadata": {
    "collapsed": true
   },
   "outputs": [],
   "source": [
    "# from sklearn import tree\n",
    "# from sklearn.model_selection import cross_val_score"
   ]
  },
  {
   "cell_type": "code",
   "execution_count": null,
   "metadata": {
    "collapsed": true
   },
   "outputs": [],
   "source": [
    "# from TreeClassifier import *"
   ]
  },
  {
   "cell_type": "code",
   "execution_count": null,
   "metadata": {
    "collapsed": false
   },
   "outputs": [],
   "source": [
    "# for d in range(3,10):\n",
    "#     tree_classifier = tree.DecisionTreeClassifier(max_depth=10)\n",
    "#     scores = cross_val_score(tree_classifier, data, target, cv=5)\n",
    "#     print d\n",
    "#     print scores\n",
    "#     print scores.mean()"
   ]
  },
  {
   "cell_type": "code",
   "execution_count": null,
   "metadata": {
    "collapsed": false
   },
   "outputs": [],
   "source": [
    "# for d in range(3,15):\n",
    "#     tree_classifier = TreeClassifier(0.001, d, normalizer_mode=\"norm\", fit_full_tree=True, print_debug=False)\n",
    "#     scores = cross_val_score(tree_classifier, data, target, cv=5)\n",
    "#     print d\n",
    "#     print scores\n",
    "#     print scores.mean()\n",
    "#     print"
   ]
  }
 ],
 "metadata": {
  "anaconda-cloud": {},
  "kernelspec": {
   "display_name": "Python [default]",
   "language": "python",
   "name": "python2"
  },
  "language_info": {
   "codemirror_mode": {
    "name": "ipython",
    "version": 2
   },
   "file_extension": ".py",
   "mimetype": "text/x-python",
   "name": "python",
   "nbconvert_exporter": "python",
   "pygments_lexer": "ipython2",
   "version": "2.7.12"
  }
 },
 "nbformat": 4,
 "nbformat_minor": 1
}
